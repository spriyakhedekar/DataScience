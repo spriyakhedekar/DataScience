{
 "cells": [
  {
   "cell_type": "code",
   "execution_count": 35,
   "metadata": {},
   "outputs": [
    {
     "name": "stdout",
     "output_type": "stream",
     "text": [
      "<Response [200]>\n",
      "On 2019-05-21 EUR equals 0.8761 GBP\n",
      "On 2019-05-21 EUR equals 1.1161 USD\n"
     ]
    }
   ],
   "source": [
    "import requests\n",
    "import json\n",
    "\n",
    "url = \"https://api.exchangeratesapi.io/latest?symbols=USD,GBP\"\n",
    "\n",
    "response = requests.get(url)\n",
    "data = response.text\n",
    "parsed = json.loads(data)\n",
    "date = parsed[\"date\"]\n",
    "print(response)\n",
    "gbp_rate = parsed[\"rates\"][\"GBP\"]\n",
    "usd_rate = parsed[\"rates\"][\"USD\"]\n",
    "print(\"On \" + date + \" EUR equals \" + str(gbp_rate) + \" GBP\")\n",
    "print(\"On \" + date + \" EUR equals \" + str(usd_rate) + \" USD\")"
   ]
  },
  {
   "cell_type": "code",
   "execution_count": 39,
   "metadata": {},
   "outputs": [
    {
     "name": "stdout",
     "output_type": "stream",
     "text": [
      "{\n",
      "    \"_id\": 79776140,\n",
      "    \"_links\": {\n",
      "        \"chat\": \"https://api.twitch.tv/kraken/chat/freecodecamp\",\n",
      "        \"commercial\": \"https://api.twitch.tv/kraken/channels/freecodecamp/commercial\",\n",
      "        \"editors\": \"https://api.twitch.tv/kraken/channels/freecodecamp/editors\",\n",
      "        \"follows\": \"https://api.twitch.tv/kraken/channels/freecodecamp/follows\",\n",
      "        \"self\": \"https://api.twitch.tv/kraken/channels/freecodecamp\",\n",
      "        \"stream_key\": \"https://api.twitch.tv/kraken/channels/freecodecamp/stream_key\",\n",
      "        \"subscriptions\": \"https://api.twitch.tv/kraken/channels/freecodecamp/subscriptions\",\n",
      "        \"teams\": \"https://api.twitch.tv/kraken/channels/freecodecamp/teams\",\n",
      "        \"videos\": \"https://api.twitch.tv/kraken/channels/freecodecamp/videos\"\n",
      "    },\n",
      "    \"background\": null,\n",
      "    \"banner\": null,\n",
      "    \"broadcaster_language\": \"en\",\n",
      "    \"created_at\": \"2015-01-14T03:36:47Z\",\n",
      "    \"delay\": null,\n",
      "    \"display_name\": \"FreeCodeCamp\",\n",
      "    \"followers\": 10122,\n",
      "    \"game\": \"Creative\",\n",
      "    \"language\": \"en\",\n",
      "    \"logo\": \"https://static-cdn.jtvnw.net/jtv_user_pictures/freecodecamp-profile_image-d9514f2df0962329-300x300.png\",\n",
      "    \"mature\": false,\n",
      "    \"name\": \"freecodecamp\",\n",
      "    \"partner\": false,\n",
      "    \"profile_banner\": \"https://static-cdn.jtvnw.net/jtv_user_pictures/freecodecamp-profile_banner-6f5e3445ff474aec-480.png\",\n",
      "    \"profile_banner_background_color\": null,\n",
      "    \"status\": \"Greg working on Electron-Vue boilerplate w/ Akira #programming #vuejs #electron\",\n",
      "    \"updated_at\": \"2016-10-10T22:02:01Z\",\n",
      "    \"url\": \"https://www.twitch.tv/freecodecamp\",\n",
      "    \"video_banner\": \"https://static-cdn.jtvnw.net/jtv_user_pictures/freecodecamp-channel_offline_image-b8e133c78cd51cb0-1920x1080.png\",\n",
      "    \"views\": 163747\n",
      "}\n"
     ]
    }
   ],
   "source": [
    "import requests\n",
    "import json\n",
    "url1 = \"https://wind-bow.glitch.me/twitch-api/channels/freecodecamp\"\n",
    "JSONContent = requests.get(url1).json()\n",
    "content = json.dumps(JSONContent, indent = 4, sort_keys=True)\n",
    "print(content)"
   ]
  },
  {
   "cell_type": "code",
   "execution_count": 33,
   "metadata": {},
   "outputs": [
    {
     "name": "stdout",
     "output_type": "stream",
     "text": [
      "Date: 2019-05-21 \n",
      "\n",
      "USD = BGN 1.7523519398\n",
      "USD = NZD 1.5358838814\n",
      "USD = ILS 3.5992294597\n",
      "USD = RUB 64.478630947\n",
      "USD = CAD 1.3409192725\n",
      "USD = USD 1.0\n",
      "USD = PHP 52.5517426754\n",
      "USD = CHF 1.0101245408\n",
      "USD = AUD 1.4535435893\n",
      "USD = JPY 110.4470925544\n",
      "USD = TRY 6.0465012096\n",
      "USD = HKD 7.8495654511\n",
      "USD = MYR 4.1860048383\n",
      "USD = HRK 6.6539736583\n",
      "USD = CZK 23.0938087985\n",
      "USD = IDR 14483.0033151151\n",
      "USD = DKK 6.6916046949\n",
      "USD = NOK 8.7727802168\n",
      "USD = HUF 292.5544306066\n",
      "USD = GBP 0.7849655049\n",
      "USD = MXN 19.0700654063\n",
      "USD = THB 31.9353104561\n",
      "USD = ISK 123.4656392796\n",
      "USD = ZAR 14.4170773228\n",
      "USD = BRL 4.0935400054\n",
      "USD = SGD 1.3781919183\n",
      "USD = PLN 3.8580772332\n",
      "USD = INR 69.6917838903\n",
      "USD = KRW 1193.3339306514\n",
      "USD = RON 4.2678075441\n",
      "USD = CNY 6.9062807992\n",
      "USD = SEK 9.6535256697\n",
      "USD = EUR 0.895977063\n"
     ]
    }
   ],
   "source": [
    "import requests\n",
    "import json\n",
    "\n",
    "url = \"https://api.exchangeratesapi.io/latest?base=USD\"\n",
    "\n",
    "response = requests.get(url)\n",
    "data = response.text\n",
    "parsed = json.loads(data)\n",
    "date = parsed[\"date\"]\n",
    "print(\"Date:\", date, \"\\n\")\n",
    "\n",
    "rates = parsed[\"rates\"]\n",
    "\n",
    "for currency, rate in rates.items():\n",
    "    print(\"USD =\",currency, rate)\n"
   ]
  },
  {
   "cell_type": "code",
   "execution_count": null,
   "metadata": {},
   "outputs": [],
   "source": []
  }
 ],
 "metadata": {
  "kernelspec": {
   "display_name": "Python 3",
   "language": "python",
   "name": "python3"
  },
  "language_info": {
   "codemirror_mode": {
    "name": "ipython",
    "version": 3
   },
   "file_extension": ".py",
   "mimetype": "text/x-python",
   "name": "python",
   "nbconvert_exporter": "python",
   "pygments_lexer": "ipython3",
   "version": "3.7.0"
  }
 },
 "nbformat": 4,
 "nbformat_minor": 2
}
